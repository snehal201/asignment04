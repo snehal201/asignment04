{
 "cells": [
  {
   "cell_type": "code",
   "execution_count": 14,
   "metadata": {},
   "outputs": [],
   "source": [
    "import numpy as np"
   ]
  },
  {
   "cell_type": "code",
   "execution_count": 30,
   "metadata": {},
   "outputs": [],
   "source": [
    "N = np.random.randint(low=0, high=2000, size=(1000,))"
   ]
  },
  {
   "cell_type": "code",
   "execution_count": 31,
   "metadata": {},
   "outputs": [],
   "source": [
    "def is_prime(n,i=2): \n",
    "\n",
    "    if (n <= 2): \n",
    "        return True \n",
    "    else:\n",
    "        False\n",
    "    if (n % i == 0): \n",
    "        return False\n",
    "    if (i * i > n): \n",
    "        \n",
    "        return True   \n",
    "    return is_prime(n, i + 1) \n",
    "   "
   ]
  },
  {
   "cell_type": "code",
   "execution_count": 32,
   "metadata": {},
   "outputs": [],
   "source": [
    "def is_even(n):\n",
    "    \n",
    "    if n%2==0:\n",
    "        \n",
    "        return True\n",
    "    else:\n",
    "        return False"
   ]
  },
  {
   "cell_type": "code",
   "execution_count": 33,
   "metadata": {},
   "outputs": [],
   "source": [
    "def even_prime_list_creation(n,i=0):\n",
    "        prime=[]\n",
    "        even=[]\n",
    "        if is_even(n)==True:\n",
    "\n",
    "            even.append(i)\n",
    "\n",
    "        if is_prime(n)==True:\n",
    "\n",
    "            prime.append(i) \n",
    "        \n",
    "        else:\n",
    "            return  even_prime_list_creation(n,i+1)"
   ]
  },
  {
   "cell_type": "code",
   "execution_count": 34,
   "metadata": {},
   "outputs": [],
   "source": [
    "even_prime_list_creation(np.all([N]))"
   ]
  },
  {
   "cell_type": "code",
   "execution_count": null,
   "metadata": {},
   "outputs": [],
   "source": []
  }
 ],
 "metadata": {
  "kernelspec": {
   "display_name": "Python 3",
   "language": "python",
   "name": "python3"
  },
  "language_info": {
   "codemirror_mode": {
    "name": "ipython",
    "version": 3
   },
   "file_extension": ".py",
   "mimetype": "text/x-python",
   "name": "python",
   "nbconvert_exporter": "python",
   "pygments_lexer": "ipython3",
   "version": "3.8.5"
  }
 },
 "nbformat": 4,
 "nbformat_minor": 4
}
